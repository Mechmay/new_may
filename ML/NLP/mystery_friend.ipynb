{
 "cells": [
  {
   "cell_type": "markdown",
   "metadata": {},
   "source": [
    "<div data-testid=\"markdown\" class=\"spacing-tight__2Gp7GTqG0TykPQ18OnUOVt markdown__1eeYJ4WPKUcvX_LDDGJR12\"><p class=\"p__1qg33Igem5pAgn4kPMirjw\">You’ve received an anonymous postcard from a friend who you haven’t seen in years. Your friend did not leave a name, but the card is definitely addressed to you. So far, you’ve narrowed your search down to three friends, based on handwriting:</p>\n",
    "<ul class=\"ul__11icM1EC_0uPj3OY0Skp4r\">\n",
    "<li class=\"li__1KqBjwbWA3ze6V0BvXq9Rx\">Emma Goldman</li>\n",
    "<li class=\"li__1KqBjwbWA3ze6V0BvXq9Rx\">Matthew Henson</li>\n",
    "<li class=\"li__1KqBjwbWA3ze6V0BvXq9Rx\">TingFang Wu</li>\n",
    "</ul>\n",
    "<p class=\"p__1qg33Igem5pAgn4kPMirjw\">But which one sent you the card?</p>\n",
    "<p class=\"p__1qg33Igem5pAgn4kPMirjw\">Just like you can classify a message as spam or not spam with a spam filter, you can classify writing as related to one friend or another by building a kind of friend writing classifier. You have past writing from all three friends stored up, which means you can use scikit-learn’s bag-of-words and Naive Bayes classifier to determine who the mystery friend is!</p>\n",
    "<p class=\"p__1qg33Igem5pAgn4kPMirjw\">Ready?</p>\n",
    "</div>"
   ]
  },
  {
   "cell_type": "code",
   "execution_count": 2,
   "metadata": {},
   "outputs": [
    {
     "name": "stdout",
     "output_type": "stream",
     "text": [
      "Emma goldman:  How can such an arrangement\n",
      "end except in failure?  This is one, though not the least important,\n",
      "factor of marriage, which differentiates it from love.\n",
      "\n",
      "Ours is a practical age\n",
      "\n",
      "Matthew Henson: Some we want\n",
      "and will take along, but there are others we will not have or take along\n",
      "on a bet, and the pleasant duty of telling them so and putting them\n",
      "ashore falls to me\n",
      "\n",
      "TingFang Wu:  America is known to have a large number of such men and\n",
      "women, men and women who devote their time and money to preaching peace\n",
      "among the nations\n",
      "The postcard was from 2!\n"
     ]
    }
   ],
   "source": [
    "import import_ipynb\n",
    "from goldman_emma_raw import goldman_docs\n",
    "from henson_matthew_raw import henson_docs\n",
    "from wu_tingfang_raw import wu_docs\n",
    "# import sklearn modules here:\n",
    "from sklearn.feature_extraction.text import CountVectorizer\n",
    "from sklearn.naive_bayes import MultinomialNB\n",
    "\n",
    "\n",
    "# Setting up the combined list of friends' writing samples\n",
    "friends_docs = goldman_docs + henson_docs + wu_docs\n",
    "# Setting up labels for your three friends\n",
    "friends_labels = [1] * 154 + [2] * 141 + [3] * 166\n",
    "\n",
    "\n",
    "# Print out a document from each friend:\n",
    "print(f'Emma goldman: {goldman_docs[140]}')\n",
    "print(f'\\nMatthew Henson: {henson_docs[130]}')\n",
    "print(f'\\nTingFang Wu: {wu_docs[120]}')\n",
    "\n",
    "\n",
    "\n",
    "mystery_postcard = \"\"\"\n",
    "My friend,\n",
    "From the 10th of July to the 13th, a fierce storm raged, clouds of\n",
    "freeing spray broke over the ship, incasing her in a coat of icy mail,\n",
    "and the tempest forced all of the ice out of the lower end of the\n",
    "channel and beyond as far as the eye could see, but the _Roosevelt_\n",
    "still remained surrounded by ice.\n",
    "Hope to see you soon.\n",
    "\"\"\"\n",
    "\n",
    "# Create bow_vectorizer:\n",
    "\n",
    "bow_vectorizer = CountVectorizer()\n",
    "# Define friends_vectors:\n",
    "friends_vectors = bow_vectorizer.fit_transform(friends_docs)\n",
    "# Define mystery_vector: \n",
    "mystery_vector = bow_vectorizer.transform([mystery_postcard])\n",
    "\n",
    "# Define friends_classifier:\n",
    "friends_classifier = MultinomialNB()\n",
    "# Train the classifier:\n",
    "friends_classifier.fit(friends_vectors, friends_labels)\n",
    "# Change predictions:\n",
    "predictions = friends_classifier.predict(mystery_vector)\n",
    "\n",
    "mystery_friend = predictions[0] if predictions[0] else \"someone else\"\n",
    "\n",
    "# Uncomment the print statement:\n",
    "print(\"The postcard was from {}!\".format(mystery_friend))"
   ]
  }
 ],
 "metadata": {
  "kernelspec": {
   "display_name": "Python 3",
   "language": "python",
   "name": "python3"
  },
  "language_info": {
   "codemirror_mode": {
    "name": "ipython",
    "version": 3
   },
   "file_extension": ".py",
   "mimetype": "text/x-python",
   "name": "python",
   "nbconvert_exporter": "python",
   "pygments_lexer": "ipython3",
   "version": "3.7.7"
  }
 },
 "nbformat": 4,
 "nbformat_minor": 4
}
