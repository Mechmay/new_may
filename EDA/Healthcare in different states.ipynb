{
 "cells": [
  {
   "cell_type": "markdown",
   "metadata": {},
   "source": [
    "## Heatlthcare in Different States\n",
    "In this project, I will use boxplots to investigate the way hospitals in different states across the United States charge their patients for medical procedures.\n",
    "\n",
    "The data originally came from the <a href=\"https://data.cms.gov/Medicare-Inpatient/Inpatient-Prospective-Payment-System-IPPS-Provider/97k6-zzx3\" target=\"_blank\" rel=\"noopener\" class=\"anchor__3DnlHDlaeJnh9whw0dBR8K\">United States Health and Human Services Department</a>"
   ]
  },
  {
   "cell_type": "code",
   "execution_count": 2,
   "metadata": {},
   "outputs": [
    {
     "data": {
      "text/html": [
       "<div>\n",
       "<style scoped>\n",
       "    .dataframe tbody tr th:only-of-type {\n",
       "        vertical-align: middle;\n",
       "    }\n",
       "\n",
       "    .dataframe tbody tr th {\n",
       "        vertical-align: top;\n",
       "    }\n",
       "\n",
       "    .dataframe thead th {\n",
       "        text-align: right;\n",
       "    }\n",
       "</style>\n",
       "<table border=\"1\" class=\"dataframe\">\n",
       "  <thead>\n",
       "    <tr style=\"text-align: right;\">\n",
       "      <th></th>\n",
       "      <th>DRG Definition</th>\n",
       "      <th>Provider Id</th>\n",
       "      <th>Provider Name</th>\n",
       "      <th>Provider Street Address</th>\n",
       "      <th>Provider City</th>\n",
       "      <th>Provider State</th>\n",
       "      <th>Provider Zip Code</th>\n",
       "      <th>Hospital Referral Region Description</th>\n",
       "      <th>Total Discharges</th>\n",
       "      <th>Average Covered Charges</th>\n",
       "      <th>Average Total Payments</th>\n",
       "      <th>Average Medicare Payments</th>\n",
       "    </tr>\n",
       "  </thead>\n",
       "  <tbody>\n",
       "    <tr>\n",
       "      <th>0</th>\n",
       "      <td>039 - EXTRACRANIAL PROCEDURES W/O CC/MCC</td>\n",
       "      <td>10001</td>\n",
       "      <td>SOUTHEAST ALABAMA MEDICAL CENTER</td>\n",
       "      <td>1108 ROSS CLARK CIRCLE</td>\n",
       "      <td>DOTHAN</td>\n",
       "      <td>AL</td>\n",
       "      <td>36301</td>\n",
       "      <td>AL - Dothan</td>\n",
       "      <td>91</td>\n",
       "      <td>32963.07</td>\n",
       "      <td>5777.24</td>\n",
       "      <td>4763.73</td>\n",
       "    </tr>\n",
       "    <tr>\n",
       "      <th>1</th>\n",
       "      <td>039 - EXTRACRANIAL PROCEDURES W/O CC/MCC</td>\n",
       "      <td>10005</td>\n",
       "      <td>MARSHALL MEDICAL CENTER SOUTH</td>\n",
       "      <td>2505 U S HIGHWAY 431 NORTH</td>\n",
       "      <td>BOAZ</td>\n",
       "      <td>AL</td>\n",
       "      <td>35957</td>\n",
       "      <td>AL - Birmingham</td>\n",
       "      <td>14</td>\n",
       "      <td>15131.85</td>\n",
       "      <td>5787.57</td>\n",
       "      <td>4976.71</td>\n",
       "    </tr>\n",
       "    <tr>\n",
       "      <th>2</th>\n",
       "      <td>039 - EXTRACRANIAL PROCEDURES W/O CC/MCC</td>\n",
       "      <td>10006</td>\n",
       "      <td>ELIZA COFFEE MEMORIAL HOSPITAL</td>\n",
       "      <td>205 MARENGO STREET</td>\n",
       "      <td>FLORENCE</td>\n",
       "      <td>AL</td>\n",
       "      <td>35631</td>\n",
       "      <td>AL - Birmingham</td>\n",
       "      <td>24</td>\n",
       "      <td>37560.37</td>\n",
       "      <td>5434.95</td>\n",
       "      <td>4453.79</td>\n",
       "    </tr>\n",
       "    <tr>\n",
       "      <th>3</th>\n",
       "      <td>039 - EXTRACRANIAL PROCEDURES W/O CC/MCC</td>\n",
       "      <td>10011</td>\n",
       "      <td>ST VINCENT'S EAST</td>\n",
       "      <td>50 MEDICAL PARK EAST DRIVE</td>\n",
       "      <td>BIRMINGHAM</td>\n",
       "      <td>AL</td>\n",
       "      <td>35235</td>\n",
       "      <td>AL - Birmingham</td>\n",
       "      <td>25</td>\n",
       "      <td>13998.28</td>\n",
       "      <td>5417.56</td>\n",
       "      <td>4129.16</td>\n",
       "    </tr>\n",
       "    <tr>\n",
       "      <th>4</th>\n",
       "      <td>039 - EXTRACRANIAL PROCEDURES W/O CC/MCC</td>\n",
       "      <td>10016</td>\n",
       "      <td>SHELBY BAPTIST MEDICAL CENTER</td>\n",
       "      <td>1000 FIRST STREET NORTH</td>\n",
       "      <td>ALABASTER</td>\n",
       "      <td>AL</td>\n",
       "      <td>35007</td>\n",
       "      <td>AL - Birmingham</td>\n",
       "      <td>18</td>\n",
       "      <td>31633.27</td>\n",
       "      <td>5658.33</td>\n",
       "      <td>4851.44</td>\n",
       "    </tr>\n",
       "  </tbody>\n",
       "</table>\n",
       "</div>"
      ],
      "text/plain": [
       "                             DRG Definition  Provider Id  \\\n",
       "0  039 - EXTRACRANIAL PROCEDURES W/O CC/MCC        10001   \n",
       "1  039 - EXTRACRANIAL PROCEDURES W/O CC/MCC        10005   \n",
       "2  039 - EXTRACRANIAL PROCEDURES W/O CC/MCC        10006   \n",
       "3  039 - EXTRACRANIAL PROCEDURES W/O CC/MCC        10011   \n",
       "4  039 - EXTRACRANIAL PROCEDURES W/O CC/MCC        10016   \n",
       "\n",
       "                      Provider Name     Provider Street Address Provider City  \\\n",
       "0  SOUTHEAST ALABAMA MEDICAL CENTER      1108 ROSS CLARK CIRCLE        DOTHAN   \n",
       "1     MARSHALL MEDICAL CENTER SOUTH  2505 U S HIGHWAY 431 NORTH          BOAZ   \n",
       "2    ELIZA COFFEE MEMORIAL HOSPITAL          205 MARENGO STREET      FLORENCE   \n",
       "3                 ST VINCENT'S EAST  50 MEDICAL PARK EAST DRIVE    BIRMINGHAM   \n",
       "4     SHELBY BAPTIST MEDICAL CENTER     1000 FIRST STREET NORTH     ALABASTER   \n",
       "\n",
       "  Provider State  Provider Zip Code Hospital Referral Region Description  \\\n",
       "0             AL              36301                          AL - Dothan   \n",
       "1             AL              35957                      AL - Birmingham   \n",
       "2             AL              35631                      AL - Birmingham   \n",
       "3             AL              35235                      AL - Birmingham   \n",
       "4             AL              35007                      AL - Birmingham   \n",
       "\n",
       "    Total Discharges    Average Covered Charges    Average Total Payments   \\\n",
       "0                  91                   32963.07                   5777.24   \n",
       "1                  14                   15131.85                   5787.57   \n",
       "2                  24                   37560.37                   5434.95   \n",
       "3                  25                   13998.28                   5417.56   \n",
       "4                  18                   31633.27                   5658.33   \n",
       "\n",
       "   Average Medicare Payments  \n",
       "0                    4763.73  \n",
       "1                    4976.71  \n",
       "2                    4453.79  \n",
       "3                    4129.16  \n",
       "4                    4851.44  "
      ]
     },
     "metadata": {},
     "output_type": "display_data"
    },
    {
     "data": {
      "text/plain": [
       "Index(['DRG Definition', 'Provider Id', 'Provider Name',\n",
       "       'Provider Street Address', 'Provider City', 'Provider State',\n",
       "       'Provider Zip Code', 'Hospital Referral Region Description',\n",
       "       ' Total Discharges ', ' Average Covered Charges ',\n",
       "       ' Average Total Payments ', 'Average Medicare Payments'],\n",
       "      dtype='object')"
      ]
     },
     "metadata": {},
     "output_type": "display_data"
    }
   ],
   "source": [
    "import pandas as pd\n",
    "from matplotlib import pyplot as plt\n",
    "\n",
    "healthcare = pd.read_csv(r'C:\\Users\\User\\Desktop\\language\\DATA JOURNEY\\python\\Data visualization_&_stats\\Datasets\\Inpatient_Prospective_Payment_System__IPPS__Provider_Summary_for_the_Top_100_Diagnosis-Related_Groups__DRG__-_FY2011.csv')\n",
    "display(healthcare.head())\n",
    "# display(healthcare.value_counts())\n",
    "# print(healthcare.dtypes, healthcare.describe(), healthcare.shape)\n",
    "display(healthcare.columns)\n"
   ]
  },
  {
   "cell_type": "code",
   "execution_count": 3,
   "metadata": {},
   "outputs": [
    {
     "name": "stdout",
     "output_type": "stream",
     "text": [
      "['039 - EXTRACRANIAL PROCEDURES W/O CC/MCC'\n",
      " '057 - DEGENERATIVE NERVOUS SYSTEM DISORDERS W/O MCC'\n",
      " '069 - TRANSIENT ISCHEMIA'\n",
      " '064 - INTRACRANIAL HEMORRHAGE OR CEREBRAL INFARCTION W MCC'\n",
      " '065 - INTRACRANIAL HEMORRHAGE OR CEREBRAL INFARCTION W CC'\n",
      " '066 - INTRACRANIAL HEMORRHAGE OR CEREBRAL INFARCTION W/O CC/MCC'\n",
      " '074 - CRANIAL & PERIPHERAL NERVE DISORDERS W/O MCC'\n",
      " '101 - SEIZURES W/O MCC' '149 - DYSEQUILIBRIUM'\n",
      " '176 - PULMONARY EMBOLISM W/O MCC'\n",
      " '177 - RESPIRATORY INFECTIONS & INFLAMMATIONS W MCC'\n",
      " '189 - PULMONARY EDEMA & RESPIRATORY FAILURE'\n",
      " '178 - RESPIRATORY INFECTIONS & INFLAMMATIONS W CC'\n",
      " '190 - CHRONIC OBSTRUCTIVE PULMONARY DISEASE W MCC'\n",
      " '191 - CHRONIC OBSTRUCTIVE PULMONARY DISEASE W CC'\n",
      " '193 - SIMPLE PNEUMONIA & PLEURISY W MCC'\n",
      " '194 - SIMPLE PNEUMONIA & PLEURISY W CC'\n",
      " '192 - CHRONIC OBSTRUCTIVE PULMONARY DISEASE W/O CC/MCC'\n",
      " '195 - SIMPLE PNEUMONIA & PLEURISY W/O CC/MCC'\n",
      " '202 - BRONCHITIS & ASTHMA W CC/MCC'\n",
      " '203 - BRONCHITIS & ASTHMA W/O CC/MCC'\n",
      " '207 - RESPIRATORY SYSTEM DIAGNOSIS W VENTILATOR SUPPORT 96+ HOURS'\n",
      " '238 - MAJOR CARDIOVASC PROCEDURES W/O MCC'\n",
      " '252 - OTHER VASCULAR PROCEDURES W MCC'\n",
      " '253 - OTHER VASCULAR PROCEDURES W CC'\n",
      " '208 - RESPIRATORY SYSTEM DIAGNOSIS W VENTILATOR SUPPORT <96 HOURS'\n",
      " '254 - OTHER VASCULAR PROCEDURES W/O CC/MCC'\n",
      " '291 - HEART FAILURE & SHOCK W MCC'\n",
      " '243 - PERMANENT CARDIAC PACEMAKER IMPLANT W CC'\n",
      " '244 - PERMANENT CARDIAC PACEMAKER IMPLANT W/O CC/MCC'\n",
      " '246 - PERC CARDIOVASC PROC W DRUG-ELUTING STENT W MCC OR 4+ VESSELS/STENTS'\n",
      " '247 - PERC CARDIOVASC PROC W DRUG-ELUTING STENT W/O MCC'\n",
      " '249 - PERC CARDIOVASC PROC W NON-DRUG-ELUTING STENT W/O MCC'\n",
      " '251 - PERC CARDIOVASC PROC W/O CORONARY ARTERY STENT W/O MCC'\n",
      " '280 - ACUTE MYOCARDIAL INFARCTION, DISCHARGED ALIVE W MCC'\n",
      " '292 - HEART FAILURE & SHOCK W CC'\n",
      " '281 - ACUTE MYOCARDIAL INFARCTION, DISCHARGED ALIVE W CC'\n",
      " '282 - ACUTE MYOCARDIAL INFARCTION, DISCHARGED ALIVE W/O CC/MCC'\n",
      " '286 - CIRCULATORY DISORDERS EXCEPT AMI, W CARD CATH W MCC'\n",
      " '287 - CIRCULATORY DISORDERS EXCEPT AMI, W CARD CATH W/O MCC'\n",
      " '293 - HEART FAILURE & SHOCK W/O CC/MCC'\n",
      " '300 - PERIPHERAL VASCULAR DISORDERS W CC'\n",
      " '301 - PERIPHERAL VASCULAR DISORDERS W/O CC/MCC'\n",
      " '303 - ATHEROSCLEROSIS W/O MCC' '305 - HYPERTENSION W/O MCC'\n",
      " '308 - CARDIAC ARRHYTHMIA & CONDUCTION DISORDERS W MCC'\n",
      " '312 - SYNCOPE & COLLAPSE'\n",
      " '309 - CARDIAC ARRHYTHMIA & CONDUCTION DISORDERS W CC'\n",
      " '310 - CARDIAC ARRHYTHMIA & CONDUCTION DISORDERS W/O CC/MCC'\n",
      " '313 - CHEST PAIN' '314 - OTHER CIRCULATORY SYSTEM DIAGNOSES W MCC'\n",
      " '315 - OTHER CIRCULATORY SYSTEM DIAGNOSES W CC'\n",
      " '330 - MAJOR SMALL & LARGE BOWEL PROCEDURES W CC'\n",
      " '377 - G.I. HEMORRHAGE W MCC'\n",
      " '329 - MAJOR SMALL & LARGE BOWEL PROCEDURES W MCC'\n",
      " '372 - MAJOR GASTROINTESTINAL DISORDERS & PERITONEAL INFECTIONS W CC'\n",
      " '378 - G.I. HEMORRHAGE W CC' '379 - G.I. HEMORRHAGE W/O CC/MCC'\n",
      " '389 - G.I. OBSTRUCTION W CC' '390 - G.I. OBSTRUCTION W/O CC/MCC'\n",
      " '391 - ESOPHAGITIS, GASTROENT & MISC DIGEST DISORDERS W MCC'\n",
      " '394 - OTHER DIGESTIVE SYSTEM DIAGNOSES W CC'\n",
      " '439 - DISORDERS OF PANCREAS EXCEPT MALIGNANCY W CC'\n",
      " '392 - ESOPHAGITIS, GASTROENT & MISC DIGEST DISORDERS W/O MCC'\n",
      " '460 - SPINAL FUSION EXCEPT CERVICAL W/O MCC'\n",
      " '473 - CERVICAL SPINAL FUSION W/O CC/MCC'\n",
      " '418 - LAPAROSCOPIC CHOLECYSTECTOMY W/O C.D.E. W CC'\n",
      " '419 - LAPAROSCOPIC CHOLECYSTECTOMY W/O C.D.E. W/O CC/MCC'\n",
      " '469 - MAJOR JOINT REPLACEMENT OR REATTACHMENT OF LOWER EXTREMITY W MCC'\n",
      " '470 - MAJOR JOINT REPLACEMENT OR REATTACHMENT OF LOWER EXTREMITY W/O MCC'\n",
      " '480 - HIP & FEMUR PROCEDURES EXCEPT MAJOR JOINT W MCC'\n",
      " '481 - HIP & FEMUR PROCEDURES EXCEPT MAJOR JOINT W CC'\n",
      " '536 - FRACTURES OF HIP & PELVIS W/O MCC'\n",
      " '482 - HIP & FEMUR PROCEDURES EXCEPT MAJOR JOINT W/O CC/MCC'\n",
      " '552 - MEDICAL BACK PROBLEMS W/O MCC'\n",
      " '491 - BACK & NECK PROC EXC SPINAL FUSION W/O CC/MCC'\n",
      " '563 - FX, SPRN, STRN & DISL EXCEPT FEMUR, HIP, PELVIS & THIGH W/O MCC'\n",
      " '602 - CELLULITIS W MCC' '603 - CELLULITIS W/O MCC' '638 - DIABETES W CC'\n",
      " '640 - MISC DISORDERS OF NUTRITION,METABOLISM,FLUIDS/ELECTROLYTES W MCC'\n",
      " '682 - RENAL FAILURE W MCC'\n",
      " '641 - MISC DISORDERS OF NUTRITION,METABOLISM,FLUIDS/ELECTROLYTES W/O MCC'\n",
      " '683 - RENAL FAILURE W CC' '684 - RENAL FAILURE W/O CC/MCC'\n",
      " '689 - KIDNEY & URINARY TRACT INFECTIONS W MCC'\n",
      " '690 - KIDNEY & URINARY TRACT INFECTIONS W/O MCC'\n",
      " '811 - RED BLOOD CELL DISORDERS W MCC'\n",
      " '698 - OTHER KIDNEY & URINARY TRACT DIAGNOSES W MCC'\n",
      " '699 - OTHER KIDNEY & URINARY TRACT DIAGNOSES W CC'\n",
      " '812 - RED BLOOD CELL DISORDERS W/O MCC'\n",
      " '853 - INFECTIOUS & PARASITIC DISEASES W O.R. PROCEDURE W MCC'\n",
      " '885 - PSYCHOSES' '870 - SEPTICEMIA OR SEVERE SEPSIS W MV 96+ HOURS'\n",
      " '871 - SEPTICEMIA OR SEVERE SEPSIS W/O MV 96+ HOURS W MCC'\n",
      " '872 - SEPTICEMIA OR SEVERE SEPSIS W/O MV 96+ HOURS W/O MCC'\n",
      " '897 - ALCOHOL/DRUG ABUSE OR DEPENDENCE W/O REHABILITATION THERAPY W/O MCC'\n",
      " '948 - SIGNS & SYMPTOMS W/O MCC'\n",
      " '917 - POISONING & TOXIC EFFECTS OF DRUGS W MCC'\n",
      " '918 - POISONING & TOXIC EFFECTS OF DRUGS W/O MCC']\n",
      "100\n"
     ]
    }
   ],
   "source": [
    "#Checking the unique entries of medical procedures in DRG definition\n",
    "print(healthcare['DRG Definition'].unique())\n",
    "print(healthcare['DRG Definition'].nunique())"
   ]
  },
  {
   "cell_type": "code",
   "execution_count": 4,
   "metadata": {
    "scrolled": false
   },
   "outputs": [
    {
     "name": "stderr",
     "output_type": "stream",
     "text": [
      "C:\\Users\\User\\miniconda3\\lib\\site-packages\\pandas\\core\\frame.py:4301: SettingWithCopyWarning: \n",
      "A value is trying to be set on a copy of a slice from a DataFrame\n",
      "\n",
      "See the caveats in the documentation: https://pandas.pydata.org/pandas-docs/stable/user_guide/indexing.html#returning-a-view-versus-a-copy\n",
      "  errors=errors,\n"
     ]
    },
    {
     "data": {
      "image/png": "[encoded data removed]",
      "text/plain": [
       "<Figure size 1296x432 with 1 Axes>"
      ]
     },
     "metadata": {
      "needs_background": "light"
     },
     "output_type": "display_data"
    }
   ],
   "source": [
    "\n",
    "#Investigating the Average covered Charges for chest pain in all states\n",
    "chest_pain = healthcare[healthcare['DRG Definition'] == '313 - CHEST PAIN']\n",
    "# print(chest_pain)\n",
    "alabama_chest_pain = chest_pain[chest_pain['Provider State'] == 'AL']\n",
    "cost = alabama_chest_pain[' Average Covered Charges '].values\n",
    "# print(cost)\n",
    "# plt.boxplot(cost)\n",
    "# plt.show()\n",
    "chest_pain.rename(columns = {' Total Discharges ': 'Total Discharges'}, inplace=True)\n",
    "\n",
    "states = chest_pain['Provider State'].unique()\n",
    "# print(states.shape)\n",
    "\n",
    "datasets = []\n",
    "\n",
    "for state in states:\n",
    "    datasets.append(chest_pain[chest_pain['Provider State'] == state][' Average Covered Charges '].values)\n",
    "\n",
    "plt.figure(figsize=(18,6))\n",
    "plt.boxplot(datasets, labels = states)\n",
    "plt.show()\n"
   ]
  },
  {
   "cell_type": "markdown",
   "metadata": {},
   "source": [
    "California, New Jersey, and Florida have the largest spreads. Vermont has almost no spread.\n",
    "\n",
    "The state with the largest median cost for a chest pain diagnosis is New Jersey. The state with the smallest median cost is Maryland.\n",
    "\n",
    "California, Georgia, and Tennessee all have a fair number of outliers."
   ]
  },
  {
   "cell_type": "code",
   "execution_count": 5,
   "metadata": {},
   "outputs": [
    {
     "data": {
      "image/png": "[encoded data removed]",
      "text/plain": [
       "<Figure size 1296x432 with 1 Axes>"
      ]
     },
     "metadata": {
      "needs_background": "light"
     },
     "output_type": "display_data"
    }
   ],
   "source": [
    "#Investigating Average Total Payments for kidney and urinary tract infections\n",
    "kidney_inf = healthcare[healthcare['DRG Definition'] == '689 - KIDNEY & URINARY TRACT INFECTIONS W MCC']\n",
    "# display(kidney_inf)\n",
    "states = kidney_inf['Provider State'].unique()\n",
    "\n",
    "dataset = []\n",
    "for state in states:\n",
    "    dataset.append(kidney_inf[kidney_inf['Provider State'] == state][' Average Total Payments '].values)\n",
    "\n",
    "plt.figure(figsize=(18,6))\n",
    "plt.boxplot(dataset, labels = states)\n",
    "plt.show()"
   ]
  },
  {
   "cell_type": "markdown",
   "metadata": {},
   "source": [
    "Arkansas has no spread, New york has the highest spread while Hawaii has the highest median. California, Maryland, Florida, Illinois, Ohio, Pennsylvania all have more than a few outliers"
   ]
  }
 ],
 "metadata": {
  "kernelspec": {
   "display_name": "Python 3",
   "language": "python",
   "name": "python3"
  },
  "language_info": {
   "codemirror_mode": {
    "name": "ipython",
    "version": 3
   },
   "file_extension": ".py",
   "mimetype": "text/x-python",
   "name": "python",
   "nbconvert_exporter": "python",
   "pygments_lexer": "ipython3",
   "version": "3.7.7"
  }
 },
 "nbformat": 4,
 "nbformat_minor": 4
}
